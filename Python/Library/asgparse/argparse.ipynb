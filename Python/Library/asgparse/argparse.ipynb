{
 "cells": [
  {
   "cell_type": "markdown",
   "metadata": {},
   "source": [
    "## 参考连接\n",
    "[Argparse 教程](https://docs.python.org/zh-cn/3/howto/argparse.html)"
   ]
  },
  {
   "cell_type": "markdown",
   "metadata": {},
   "source": [
    "**arfparse 是Python标准库中推荐的命令行解析模块**\n",
    "\n",
    "## 概念"
   ]
  },
  {
   "cell_type": "code",
   "execution_count": 1,
   "metadata": {},
   "outputs": [
    {
     "name": "stdout",
     "output_type": "stream",
     "text": [
      "argparse.ipynb\r\n"
     ]
    }
   ],
   "source": [
    "ls"
   ]
  },
  {
   "cell_type": "code",
   "execution_count": 2,
   "metadata": {},
   "outputs": [
    {
     "name": "stdout",
     "output_type": "stream",
     "text": [
      "ls: 无法访问'pypy': 没有那个文件或目录\r\n"
     ]
    }
   ],
   "source": [
    "ls pypy"
   ]
  },
  {
   "cell_type": "code",
   "execution_count": 3,
   "metadata": {},
   "outputs": [
    {
     "name": "stdout",
     "output_type": "stream",
     "text": [
      "总用量 4\r\n",
      "-rw-r--r-- 1 wbb wbb 980 8月   1 15:48 argparse.ipynb\r\n"
     ]
    }
   ],
   "source": [
    "ls -l"
   ]
  },
  {
   "cell_type": "code",
   "execution_count": 4,
   "metadata": {},
   "outputs": [
    {
     "name": "stdout",
     "output_type": "stream",
     "text": [
      "用法：ls [选项]... [文件]...\r\n",
      "List information about the FILEs (the current directory by default).\r\n",
      "Sort entries alphabetically if none of -cftuvSUX nor --sort is specified.\r\n",
      "\r\n",
      "必选参数对长短选项同时适用。\r\n",
      "  -a, --all\t\t\t不隐藏任何以. 开始的项目\r\n",
      "  -A, --almost-all\t\t列出除. 及.. 以外的任何项目\r\n",
      "      --author\t\t\t与-l 同时使用时列出每个文件的作者\r\n",
      "  -b, --escape\t\t\t以八进制溢出序列表示不可打印的字符\r\n",
      "      --block-size=SIZE      scale sizes by SIZE before printing them; e.g.,\r\n",
      "                               '--block-size=M' prints sizes in units of\r\n",
      "                               1,048,576 bytes; see SIZE format below\r\n",
      "  -B, --ignore-backups       do not list implied entries ending with ~\r\n",
      "  -c                         with -lt: sort by, and show, ctime (time of last\r\n",
      "                               modification of file status information);\r\n",
      "                               with -l: show ctime and sort by name;\r\n",
      "                               otherwise: sort by ctime, newest first\r\n",
      "  -C                         list entries by columns\r\n",
      "      --color[=WHEN]         colorize the output; WHEN can be 'always' (default\r\n",
      "                               if omitted), 'auto', or 'never'; more info below\r\n",
      "  -d, --directory            list directories themselves, not their contents\r\n",
      "  -D, --dired                generate output designed for Emacs' dired mode\r\n",
      "  -f                         do not sort, enable -aU, disable -ls --color\r\n",
      "  -F, --classify             append indicator (one of */=>@|) to entries\r\n",
      "      --file-type            likewise, except do not append '*'\r\n",
      "      --format=WORD          across -x, commas -m, horizontal -x, long -l,\r\n",
      "                               single-column -1, verbose -l, vertical -C\r\n",
      "      --full-time            like -l --time-style=full-iso\r\n",
      "  -g\t\t\t\t类似-l，但不列出所有者\r\n",
      "      --group-directories-first\r\n",
      "                             group directories before files;\r\n",
      "                               can be augmented with a --sort option, but any\r\n",
      "                               use of --sort=none (-U) disables grouping\r\n",
      "  -G, --no-group             in a long listing, don't print group names\r\n",
      "  -h, --human-readable       with -l and/or -s, print human readable sizes\r\n",
      "                               (e.g., 1K 234M 2G)\r\n",
      "      --si                   likewise, but use powers of 1000 not 1024\r\n",
      "  -H, --dereference-command-line\r\n",
      "                             follow symbolic links listed on the command line\r\n",
      "      --dereference-command-line-symlink-to-dir\r\n",
      "                             follow each command line symbolic link\r\n",
      "                               that points to a directory\r\n",
      "      --hide=PATTERN         do not list implied entries matching shell PATTERN\r\n",
      "                               (overridden by -a or -A)\r\n",
      "      --hyperlink[=WHEN]     hyperlink file names; WHEN can be 'always'\r\n",
      "                               (default if omitted), 'auto', or 'never'\r\n",
      "      --indicator-style=WORD  append indicator with style WORD to entry names:\r\n",
      "                               none (default), slash (-p),\r\n",
      "                               file-type (--file-type), classify (-F)\r\n",
      "  -i, --inode                print the index number of each file\r\n",
      "  -I, --ignore=PATTERN       do not list implied entries matching shell PATTERN\r\n",
      "  -k, --kibibytes            default to 1024-byte blocks for disk usage\r\n",
      "  -l\t\t\t\t使用较长格式列出信息\r\n",
      "  -L, --dereference\t\t当显示符号链接的文件信息时，显示符号链接所指示\r\n",
      "\t\t\t\t的对象而并非符号链接本身的信息\r\n",
      "  -m\t\t\t\t所有项目以逗号分隔，并填满整行行宽\r\n",
      "  -n, --numeric-uid-gid      like -l, but list numeric user and group IDs\r\n",
      "  -N, --literal              print entry names without quoting\r\n",
      "  -o                         like -l, but do not list group information\r\n",
      "  -p, --indicator-style=slash\r\n",
      "                             append / indicator to directories\r\n",
      "  -q, --hide-control-chars   print ? instead of nongraphic characters\r\n",
      "      --show-control-chars   show nongraphic characters as-is (the default,\r\n",
      "                               unless program is 'ls' and output is a terminal)\r\n",
      "  -Q, --quote-name           enclose entry names in double quotes\r\n",
      "      --quoting-style=WORD   use quoting style WORD for entry names:\r\n",
      "                               literal, locale, shell, shell-always,\r\n",
      "                               shell-escape, shell-escape-always, c, escape\r\n",
      "  -r, --reverse\t\t\t逆序排列\r\n",
      "  -R, --recursive\t\t递归显示子目录\r\n",
      "  -s, --size\t\t\t以块数形式显示每个文件分配的尺寸\r\n",
      "  -S                         sort by file size, largest first\r\n",
      "      --sort=WORD            sort by WORD instead of name: none (-U), size (-S),\r\n",
      "                               time (-t), version (-v), extension (-X)\r\n",
      "      --time=WORD            with -l, show time as WORD instead of default\r\n",
      "                               modification time: atime or access or use (-u);\r\n",
      "                               ctime or status (-c); also use specified time\r\n",
      "                               as sort key if --sort=time (newest first)\r\n",
      "      --time-style=STYLE     with -l, show times using style STYLE:\r\n",
      "                               full-iso, long-iso, iso, locale, or +FORMAT;\r\n",
      "                               FORMAT is interpreted like in 'date'; if FORMAT\r\n",
      "                               is FORMAT1<newline>FORMAT2, then FORMAT1 applies\r\n",
      "                               to non-recent files and FORMAT2 to recent files;\r\n",
      "                               if STYLE is prefixed with 'posix-', STYLE\r\n",
      "                               takes effect only outside the POSIX locale\r\n",
      "  -t                         sort by modification time, newest first\r\n",
      "  -T, --tabsize=COLS         assume tab stops at each COLS instead of 8\r\n",
      "  -u                         with -lt: sort by, and show, access time;\r\n",
      "                               with -l: show access time and sort by name;\r\n",
      "                               otherwise: sort by access time, newest first\r\n",
      "  -U                         do not sort; list entries in directory order\r\n",
      "  -v                         natural sort of (version) numbers within text\r\n",
      "  -w, --width=COLS           set output width to COLS.  0 means no limit\r\n",
      "  -x                         list entries by lines instead of by columns\r\n",
      "  -X                         sort alphabetically by entry extension\r\n",
      "  -Z, --context              print any security context of each file\r\n",
      "  -1                         list one file per line.  Avoid '\\n' with -q or -b\r\n",
      "      --help\t\t显示此帮助信息并退出\r\n",
      "      --version\t\t显示版本信息并退出\r\n",
      "\r\n",
      "The SIZE argument is an integer and optional unit (example: 10K is 10*1024).\r\n",
      "Units are K,M,G,T,P,E,Z,Y (powers of 1024) or KB,MB,... (powers of 1000).\r\n",
      "\r\n",
      "使用色彩来区分文件类型的功能已被禁用，默认设置和 --color=never 同时禁用了它。\r\n",
      "使用 --color=auto 选项，ls 只在标准输出被连至终端时才生成颜色代码。\r\n",
      "LS_COLORS 环境变量可改变此设置，可使用 dircolors 命令来设置。\r\n",
      "\r\n",
      "退出状态：\r\n",
      " 0  正常\r\n",
      " 1  一般问题 (例如：无法访问子文件夹)\r\n",
      " 2  严重问题 (例如：无法使用命令行参数)\r\n",
      "\r\n",
      "GNU coreutils online help: <http://www.gnu.org/software/coreutils/>\r\n",
      "请向<http://translationproject.org/team/zh_CN.html> 报告ls 的翻译错误\r\n",
      "Full documentation at: <http://www.gnu.org/software/coreutils/ls>\r\n",
      "or available locally via: info '(coreutils) ls invocation'\r\n"
     ]
    }
   ],
   "source": [
    "ls --help"
   ]
  },
  {
   "cell_type": "markdown",
   "metadata": {},
   "source": [
    "我们可以从这四个命令中学到几个概念：\n",
    "\n",
    "1. ls 是一个即使在运行的时候没有提供任何选项，也非常有用的命令。在默认情况下他会输出当前文件夹包含的文件和文件夹。\n",
    "2. 如果我们想要使用比它默认提供的更多功能，我们需要告诉该命令更多信息。在这个例子里，我们想要查看一个不同的目录，pypy。我们所做的是指定所谓的位置参数。之所以这样命名，是因为程序应该如何处理该参数值，完全取决于它在命令行出现的位置。更能体现这个概念的命令如 cp，它最基本的用法是 cp SRC DEST。第一个位置参数指的是*你想要复制的*，第二个位置参数指的是*你想要复制到的位置*。\n",
    "3. 现在假设我们想要改变这个程序的行为。在我们的例子中，我们不仅仅只是输出每个文件的文件名，还输出了更多信息。在这个例子中，-l 被称为可选参数。\n",
    "4. 这是一段帮助文档的文字。它是非常有用的，因为当你遇到一个你从未使用过的程序时，你可以通过阅读它的帮助文档来弄清楚它是如何运行的。"
   ]
  },
  {
   "cell_type": "markdown",
   "metadata": {},
   "source": [
    "## 基础\n",
    "\n",
    "让我们从一个简单到（几乎）什么也做不了的例子开始："
   ]
  },
  {
   "cell_type": "code",
   "execution_count": 9,
   "metadata": {},
   "outputs": [
    {
     "name": "stderr",
     "output_type": "stream",
     "text": [
      "usage: ipykernel_launcher.py [-h]\n",
      "ipykernel_launcher.py: error: unrecognized arguments: -f /home/wbb/.local/share/jupyter/runtime/kernel-b22388d9-5e97-4ac3-863b-9ffef737995d.json\n"
     ]
    },
    {
     "ename": "SystemExit",
     "evalue": "2",
     "output_type": "error",
     "traceback": [
      "An exception has occurred, use %tb to see the full traceback.\n",
      "\u001b[0;31mSystemExit\u001b[0m\u001b[0;31m:\u001b[0m 2\n"
     ]
    }
   ],
   "source": [
    "import argparse\n",
    "parser = argparse.ArgumentParser()\n",
    "parser.parse_args()"
   ]
  },
  {
   "cell_type": "markdown",
   "metadata": {},
   "source": [
    "Note: 上述几行代码应该写在.py文件里面。然后在命令行中通过python filename.py就可像在`概念`小节中的ls命令一样。"
   ]
  },
  {
   "cell_type": "markdown",
   "metadata": {},
   "source": [
    "## 位置参数介绍\n",
    "\n",
    "举个例子"
   ]
  },
  {
   "cell_type": "markdown",
   "metadata": {},
   "source": [
    "```python\n",
    "import argparse\n",
    "parser = argparse.ArgumentParser()\n",
    "parser.add_argument(\"echo\")\n",
    "args = parser.parse_args()\n",
    "print(args.echo)\n",
    "```"
   ]
  },
  {
   "cell_type": "markdown",
   "metadata": {},
   "source": [
    "- 我们增加了 add_argument() 方法，该方法用于指定程序能够接受哪些命令行选项。在这个例子中，我将选项命名为 echo，与其功能一致。\n",
    "\n",
    "- 现在调用我们的程序必须要指定一个选项。\n",
    "\n",
    "- The parse_args() method actually returns some data from the options specified, in this case, echo.\n",
    "\n",
    "- 这一变量是 argparse 免费施放的某种 “魔法”（即是说，不需要指定哪个变量是存储哪个值的）。你也可以注意到，这一名称与传递给方法的字符串参数一致，都是 echo。\n",
    "\n",
    "然而请注意，尽管显示的帮助看起来清楚完整，但它可以比现在更有帮助。比如我们可以知道 echo 是一个位置参数，但我们除了靠猜或者看源代码，没法知道它是用来干什么的。所以，我们可以把它改造得更有用："
   ]
  },
  {
   "cell_type": "markdown",
   "metadata": {},
   "source": [
    "```python\n",
    "import argparse\n",
    "parser = argparse.ArgumentParser()\n",
    "parser.add_argument(\"echo\", help=\"echo the string you use here\")\n",
    "args = parser.parse_args()\n",
    "print(args.echo)\n",
    "```"
   ]
  },
  {
   "cell_type": "markdown",
   "metadata": {},
   "source": [
    "## 可选参数介绍\n",
    "\n",
    "到目前为止，我们一直在研究位置参数。让我们看看如何添加可选的："
   ]
  },
  {
   "cell_type": "markdown",
   "metadata": {},
   "source": [
    "```python\n",
    "import argparse\n",
    "parser = argparse.ArgumentParser()\n",
    "parser.add_argument(\"--verbosity\", help=\"increase output verbosity\")\n",
    "args = parser.parse_args()\n",
    "if args.verbosity:\n",
    "    print(\"verbosity turned on\")\n",
    "```"
   ]
  },
  {
   "cell_type": "code",
   "execution_count": null,
   "metadata": {},
   "outputs": [],
   "source": []
  }
 ],
 "metadata": {
  "kernelspec": {
   "display_name": "venv",
   "language": "python",
   "name": "venv"
  },
  "language_info": {
   "codemirror_mode": {
    "name": "ipython",
    "version": 3
   },
   "file_extension": ".py",
   "mimetype": "text/x-python",
   "name": "python",
   "nbconvert_exporter": "python",
   "pygments_lexer": "ipython3",
   "version": "3.6.9"
  }
 },
 "nbformat": 4,
 "nbformat_minor": 4
}
