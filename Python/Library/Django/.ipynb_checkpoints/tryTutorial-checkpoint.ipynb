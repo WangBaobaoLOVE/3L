{
 "cells": [
  {
   "cell_type": "markdown",
   "metadata": {},
   "source": [
    "## 跟着官方教程写第一个Diango应用\n",
    "\n",
    "案例：创建一个基础的民意app。它包括两个部分：\n",
    "\n",
    "1. 一个公共页面用于人们浏览和投票民意；\n",
    "2. 一个管理页面用于自己增删改民意。"
   ]
  },
  {
   "cell_type": "code",
   "execution_count": 2,
   "metadata": {},
   "outputs": [
    {
     "name": "stdout",
     "output_type": "stream",
     "text": [
      "3.1\n",
      "(3, 1, 0, 'final', 0)\n"
     ]
    }
   ],
   "source": [
    "import django\n",
    "print(django.__version__)\n",
    "print(django.VERSION)"
   ]
  },
  {
   "cell_type": "markdown",
   "metadata": {},
   "source": [
    "## 创建一个项目（工程）\n",
    "\n",
    "如果您是第一次使用Django，则必须进行一些初始设置。 即，您将需要自动生成一些代码来建立Django项目-Django实例的一组设置，包括数据库配置，特定于Django的选项和特定于应用程序的设置。\n",
    "\n",
    "在命令行中，使用cd进入要存储代码的目录，然后运行以下命令：\n",
    "\n",
    "```shell\n",
    "django-admin startproject mysite\n",
    "```\n",
    "\n",
    "它将创建一个`mysite`文件夹在该目录下。"
   ]
  },
  {
   "cell_type": "code",
   "execution_count": 3,
   "metadata": {},
   "outputs": [],
   "source": [
    "import os"
   ]
  },
  {
   "cell_type": "code",
   "execution_count": 4,
   "metadata": {},
   "outputs": [
    {
     "data": {
      "text/plain": [
       "0"
      ]
     },
     "execution_count": 4,
     "metadata": {},
     "output_type": "execute_result"
    }
   ],
   "source": [
    "os.system('tree firstApp')"
   ]
  },
  {
   "cell_type": "markdown",
   "metadata": {},
   "source": [
    "![文件目录树](./images/fileTree.png)"
   ]
  },
  {
   "cell_type": "markdown",
   "metadata": {},
   "source": [
    "### 这些文件的作用\n",
    "\n",
    "1. `外部mysite /`根目录是您的项目的容器。它的名称对Django无关紧要；您可以将其重命名为您喜欢的任何名称。\n",
    "2.  `manage.py`：一个命令行实用程序，可让您以各种方式与该Django项目进行交互。\n",
    "3.  `内部的mysite /目录`是项目的实际Python包。它的名称是Python包名称，您需要在其中导入任何内容（例如mysite.urls）\n",
    "4. `mysite / __ init__.py`：一个空文件，告诉Python该目录应视为Python软件包。如果您是Python初学者，请在Python官方文档中详细了解软件包。\n",
    "5. `mysite / settings.py`：此Django项目的设置/配置。\n",
    "6. `mysite / urls.py`：此Django项目的URL声明； Django支持的网站的“目录”。\n",
    "7. `mysite / asgi.py`：与ASGI兼容的Web服务器为您的项目提供服务的入口点。\n",
    "8. `mysite / wsgi.py`：与WSGI兼容的Web服务器用于为您的项目提供服务的入口点。"
   ]
  },
  {
   "cell_type": "markdown",
   "metadata": {},
   "source": [
    "## The development server¶(开发服务)\n",
    "\n",
    "验证自己的Django项目是否有效，进入外部mysite目录，运行下列命令：\n",
    "\n",
    "```shell\n",
    "python manage.py runserver\n",
    "```\n",
    "\n",
    "将会看到如下输出：\n",
    "\n",
    "```\n",
    "Watching for file changes with StatReloader\n",
    "Performing system checks...\n",
    "\n",
    "System check identified no issues (0 silenced).\n",
    "\n",
    "You have 18 unapplied migration(s). Your project may not work properly until you apply the migrations for app(s): admin, auth, contenttypes, sessions.\n",
    "Run 'python manage.py migrate' to apply them.\n",
    "\n",
    "August 07, 2020 - 02:15:06\n",
    "Django version 3.1, using settings 'mysite.settings'\n",
    "Starting development server at http://127.0.0.1:8000/\n",
    "Quit the server with CONTROL-C.\n",
    "```\n",
    "\n",
    "**Note:** 现在忽视数据库未应用的警告，我们不久的将来在解决这个问题。"
   ]
  },
  {
   "cell_type": "markdown",
   "metadata": {},
   "source": [
    "#### 使用其他端口\n",
    "\n",
    "```\n",
    "python manage.py runserver 8080\n",
    "```\n",
    "\n",
    "####  侦听所有可用的公共IP\n",
    "\n",
    "```\n",
    " python manage.py runserver 0:8000\n",
    "```"
   ]
  },
  {
   "cell_type": "markdown",
   "metadata": {},
   "source": [
    "## 创建民意（Polls）App\n",
    "\n",
    "现在项目（工程）环境已经启动，我们可以开始工作了。\n",
    "\n",
    "为了创建app，请确保我们和`manage.py`在同一目录下，然后输入命令：\n",
    "\n",
    "```\n",
    "python manage.py startapp polls\n",
    "```\n",
    "\n",
    "![创建了目录`polls`](./images/fileTree1.png)\n",
    "\n",
    "## 写自己的第一个view\n",
    "\n",
    "1. 打开文件`polls/views.py`，并在里面写下如下python 代码：\n",
    "\n",
    "```python\n",
    "from django.http import HttpResponse\n",
    "\n",
    "\n",
    "def index(request):\n",
    "    return HttpResponse(\"Hello, world. You're at the polls index.\")\n",
    "```\n",
    "\n",
    "这是Django的最简单的view，为了call这个view，我们需要把他映射到一个URL.所以我们需要一个`URLconf`。\n",
    "\n",
    "为了创建一个`URLconf`在`polls`目录下,创建一个`urls.py`文件在`polls`目录下。\n",
    "\n",
    "在`polls/urls.py`里面写下如下python 代码：\n",
    "\n",
    "```python\n",
    "from django.urls import path\n",
    "\n",
    "from . import views\n",
    "\n",
    "urlpatterns = [\n",
    "    path('', views.index, name='index'),\n",
    "]\n",
    "```\n",
    "\n",
    "The next step is to point the **root URLconf** at the **polls.urls** module. In **mysite/urls.py**, add an import for **django.urls.include** and insert an **include()** in the **urlpatterns** list, so you have:\n",
    "\n",
    "\n",
    "```python\n",
    "from django.contrib import admin\n",
    "from django.urls import include, path\n",
    "\n",
    "urlpatterns = [\n",
    "    path('polls/', include('polls.urls')),\n",
    "    path('admin/', admin.site.urls),\n",
    "]\n",
    "```\n",
    "\n",
    "### 验证\n",
    "\n",
    "现在，一个`index view` 已经有了`URlconf`，确认他是否工作:\n",
    "\n",
    "```\n",
    "python manage.py runserver\n",
    "```\n",
    "\n",
    "在浏览器中键入`http://localhost:8000/polls/`, 你将看到文本“Hello, world. You’re at the polls index.”"
   ]
  },
  {
   "cell_type": "markdown",
   "metadata": {},
   "source": [
    "#  数据库和自动生成admin页面\n",
    "\n",
    "## 数据库\n",
    "\n",
    "现在，打开`mysite / settings.py`。 这是一个普通的Python模块，带有表示Django设置的模块级变量。\n",
    "\n",
    "默认情况下，配置使用`SQLite`。 如果您是数据库新手，或者只是想尝试使用Django，这是最简单的选择。 `SQLite`包含在Python中，因此您无需安装其他任何东西即可支持您的数据库。 但是，在开始第一个实际项目时，您可能希望使用可扩展性更高的数据库，例如`PostgreSQL`，以避免日后出现数据库切换难题。\n",
    "\n",
    "### 设置时区和语言\n",
    "\n",
    "原：\n",
    "\n",
    "```\n",
    "LANGUAGE_CODE = 'en-us'\n",
    "\n",
    "TIME_ZONE = 'UTC'\n",
    "```\n",
    "\n",
    "改为:\n",
    "\n",
    "```\n",
    "LANGUAGE_CODE = 'zh-hans'\n",
    "\n",
    "TIME_ZONE = 'Asia/Shanghai'\n",
    "```\n",
    "\n",
    "### INSTALLED_APPS\n",
    "\n",
    "另外，请注意文件顶部的`INSTALLED_APPS`设置。该名称包含在此Django实例中激活的所有Django应用程序的名称。应用程序可以在多个项目中使用，并且您可以打包和分发它们以供其他人在其项目中使用。\n",
    "\n",
    "默认情况下，`INSTALLED_APPS`包含以下应用程序，所有这些应用程序都与Django一起提供：\n",
    "\n",
    "    `django.contrib.admin` –管理站点。您将很快使用它。\n",
    "    `django.contrib.auth` –身份验证系统。\n",
    "    `django.contrib.contenttypes` –内容类型的框架。\n",
    "    `django.contrib.sessions` –一个会话框架。\n",
    "    `django.contrib.messages` –消息传递框架。\n",
    "    `django.contrib.staticfiles` –用于管理静态文件的框架。\n",
    "\n",
    "默认情况下，这些应用程序是为方便起见而包含的。\n",
    "\n",
    "但是，其中一些应用程序至少使用一个数据库表，因此我们需要在数据库中创建表之后才能使用它们。为此，请运行以下命令：\n",
    "\n",
    "```\n",
    "$ python manage.py migrate\n",
    "```\n",
    "\n",
    "运行结果：\n",
    "\n",
    "```\n",
    "Operations to perform:\n",
    "  Apply all migrations: admin, auth, contenttypes, sessions\n",
    "Running migrations:\n",
    "  Applying contenttypes.0001_initial... OK\n",
    "  Applying auth.0001_initial... OK\n",
    "  Applying admin.0001_initial... OK\n",
    "  Applying admin.0002_logentry_remove_auto_add... OK\n",
    "  Applying admin.0003_logentry_add_action_flag_choices... OK\n",
    "  Applying contenttypes.0002_remove_content_type_name... OK\n",
    "  Applying auth.0002_alter_permission_name_max_length... OK\n",
    "  Applying auth.0003_alter_user_email_max_length... OK\n",
    "  Applying auth.0004_alter_user_username_opts... OK\n",
    "  Applying auth.0005_alter_user_last_login_null... OK\n",
    "  Applying auth.0006_require_contenttypes_0002... OK\n",
    "  Applying auth.0007_alter_validators_add_error_messages... OK\n",
    "  Applying auth.0008_alter_user_username_max_length... OK\n",
    "  Applying auth.0009_alter_user_last_name_max_length... OK\n",
    "  Applying auth.0010_alter_group_name_max_length... OK\n",
    "  Applying auth.0011_update_proxy_permissions... OK\n",
    "  Applying auth.0012_alter_user_first_name_max_length... OK\n",
    "  Applying sessions.0001_initial... OK\n",
    "\n",
    "```"
   ]
  },
  {
   "cell_type": "markdown",
   "metadata": {},
   "source": [
    "## 创建models\n",
    "\n",
    "现在，我们将定义模型-本质上是数据库布局以及其他元数据。\n",
    "\n",
    "在我们的民意调查应用中，我们将创建两个模型：问题和选择。 问题有问题和发布日期。 “选择”有两个字段：选择的文本和投票提示。 每个选择都与一个问题相关联。\n",
    "\n",
    "这些概念由Python类表示。 编辑`polls / models.py`文件，如下所示：\n",
    "\n",
    "```python\n",
    "from django.db import models\n",
    "\n",
    "# Create your models here.\n",
    "class Question(models.Model):\n",
    "    question_text = models.CharField(max_length=200)\n",
    "    pub_date = models.DateTimeField('date published')\n",
    "\n",
    "\n",
    "class Choice(models.Model):\n",
    "    question = models.ForeignKey(Question, on_delete=models.CASCADE)\n",
    "    choice_text = models.CharField(max_length=200)\n",
    "    votes = models.IntegerField(default=0)\n",
    "```\n",
    "\n",
    "## 激活models\n",
    "\n",
    "1. add `polls.apps.PollsConfig` in `INSTALLED_APPS` of `mysite/settings.py`\n",
    "2. `$ python manage.py makemigrations polls`\n",
    "3. 2的输出：\n",
    "```\n",
    "Migrations for 'polls':\n",
    "  polls/migrations/0001_initial.py\n",
    "    - Create model Question\n",
    "    - Create model Choice\n",
    "```\n",
    "4. 在一次运行`migrate`去创造those model tables in your database:`$ python manage.py migrate`"
   ]
  },
  {
   "cell_type": "markdown",
   "metadata": {},
   "source": [
    "## playing with the API\n",
    "\n",
    "```shell\n",
    "$ python manage.py shell\n",
    "```\n",
    "\n",
    "## 创建一个admin用户\n",
    "\n",
    "```\n",
    "$ python manage.py createsuperuser\n",
    "```"
   ]
  },
  {
   "cell_type": "code",
   "execution_count": null,
   "metadata": {},
   "outputs": [],
   "source": []
  }
 ],
 "metadata": {
  "kernelspec": {
   "display_name": "Python 3",
   "language": "python",
   "name": "python3"
  },
  "language_info": {
   "codemirror_mode": {
    "name": "ipython",
    "version": 3
   },
   "file_extension": ".py",
   "mimetype": "text/x-python",
   "name": "python",
   "nbconvert_exporter": "python",
   "pygments_lexer": "ipython3",
   "version": "3.7.6"
  }
 },
 "nbformat": 4,
 "nbformat_minor": 4
}
